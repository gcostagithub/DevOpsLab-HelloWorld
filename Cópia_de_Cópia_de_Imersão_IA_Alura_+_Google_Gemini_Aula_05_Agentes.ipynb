{
  "nbformat": 4,
  "nbformat_minor": 0,
  "metadata": {
    "colab": {
      "provenance": [],
      "include_colab_link": true
    },
    "kernelspec": {
      "name": "python3",
      "display_name": "Python 3"
    },
    "language_info": {
      "name": "python"
    }
  },
  "cells": [
    {
      "cell_type": "markdown",
      "metadata": {
        "id": "view-in-github",
        "colab_type": "text"
      },
      "source": [
        "<a href=\"https://colab.research.google.com/github/gcostagithub/DevOpsLab-HelloWorld/blob/master/C%C3%B3pia_de_C%C3%B3pia_de_Imers%C3%A3o_IA_Alura_%2B_Google_Gemini_Aula_05_Agentes.ipynb\" target=\"_parent\"><img src=\"https://colab.research.google.com/assets/colab-badge.svg\" alt=\"Open In Colab\"/></a>"
      ]
    },
    {
      "cell_type": "code",
      "source": [
        "%pip -q install google-genai"
      ],
      "metadata": {
        "id": "UCCbECexLk_h"
      },
      "execution_count": null,
      "outputs": []
    },
    {
      "cell_type": "code",
      "source": [
        "# Configura a API Key do Google Gemini\n",
        "\n",
        "import os\n",
        "from google.colab import userdata\n",
        "\n",
        "os.environ[\"GOOGLE_API_KEY\"] = userdata.get('GOOGLE_API_KEY')"
      ],
      "metadata": {
        "id": "NfCqHo1tLk8P"
      },
      "execution_count": null,
      "outputs": []
    },
    {
      "cell_type": "code",
      "source": [
        "# Configura o cliente da SDK do Gemini\n",
        "\n",
        "from google import genai\n",
        "\n",
        "client = genai.Client()\n",
        "\n",
        "MODEL_ID = \"gemini-2.0-flash\""
      ],
      "metadata": {
        "id": "bV4w0H5TLk5g"
      },
      "execution_count": null,
      "outputs": []
    },
    {
      "cell_type": "code",
      "source": [
        "# Pergunta ao Gemini uma informação mais recente que seu conhecimento\n",
        "\n",
        "from IPython.display import HTML, Markdown\n",
        "\n",
        "# Perguntar pro modelo quando é a próxima imersão de IA ###############################################\n",
        "response = client.models.generate_content(\n",
        "    model=MODEL_ID,\n",
        "    contents='Quando é a próxima Imersão IA com Google Gemini da Alura?',\n",
        ")\n",
        "\n",
        "# Exibe a resposta na tela\n",
        "display(Markdown(f\"Resposta:\\n {response.text}\"))"
      ],
      "metadata": {
        "id": "HwVP7Xi34Zuw"
      },
      "execution_count": null,
      "outputs": []
    },
    {
      "cell_type": "code",
      "source": [
        "# Pergunta ao Gemini uma informação utilizando a busca do Google como contexto\n",
        "\n",
        "response = client.models.generate_content(\n",
        "    model=MODEL_ID,\n",
        "    contents='Quando é a próxima Imersão IA com Google Gemini da Alura?',\n",
        "    config={\"tools\":[{\"google_search\":{}}]}\n",
        "\n",
        ")\n",
        "\n",
        "# Exibe a resposta na tela\n",
        "display(Markdown(f\"Resposta:\\n {response.text}\"))"
      ],
      "metadata": {
        "id": "yXaZd7iZ4ftw"
      },
      "execution_count": null,
      "outputs": []
    },
    {
      "cell_type": "code",
      "source": [
        "# Exibe a busca\n",
        "print(f\"Busca realizada: {response.candidates[0].grounding_metadata.web_search_queries}\")\n",
        "# Exibe as URLs nas quais ele se baseou\n",
        "print(f\"Páginas utilizadas na resposta: {', '.join([site.web.title for site in response.candidates[0].grounding_metadata.grounding_chunks])}\")\n",
        "print()\n",
        "display(HTML(response.candidates[0].grounding_metadata.search_entry_point.rendered_content))"
      ],
      "metadata": {
        "id": "xHSNlTd84heJ"
      },
      "execution_count": null,
      "outputs": []
    },
    {
      "cell_type": "code",
      "source": [
        "# Instalar Framework ADK de agentes do Google ################################################\n",
        "!pip install -q google-adk"
      ],
      "metadata": {
        "id": "hvZ3UnPI4jhJ"
      },
      "execution_count": null,
      "outputs": []
    },
    {
      "cell_type": "code",
      "execution_count": null,
      "metadata": {
        "id": "aePV2bdfDeoW"
      },
      "outputs": [],
      "source": [
        "from google.adk.agents import Agent\n",
        "from google.adk.runners import Runner\n",
        "from google.adk.sessions import InMemorySessionService\n",
        "from google.adk.tools import google_search\n",
        "from google.genai import types  # Para criar conteúdos (Content e Part)\n",
        "from datetime import date\n",
        "import textwrap # Para formatar melhor a saída de texto\n",
        "from IPython.display import display, Markdown # Para exibir texto formatado no Colab\n",
        "import requests # Para fazer requisições HTTP\n",
        "import warnings\n",
        "\n",
        "warnings.filterwarnings(\"ignore\")"
      ]
    },
    {
      "cell_type": "code",
      "source": [
        "# Função auxiliar que envia uma mensagem para um agente via Runner e retorna a resposta final\n",
        "def call_agent(agent: Agent, message_text: str) -> str:\n",
        "    # Cria um serviço de sessão em memória\n",
        "    session_service = InMemorySessionService()\n",
        "    # Cria uma nova sessão (você pode personalizar os IDs conforme necessário)\n",
        "    session = session_service.create_session(app_name=agent.name, user_id=\"user1\", session_id=\"session1\")\n",
        "    # Cria um Runner para o agente\n",
        "    runner = Runner(agent=agent, app_name=agent.name, session_service=session_service)\n",
        "    # Cria o conteúdo da mensagem de entrada\n",
        "    content = types.Content(role=\"user\", parts=[types.Part(text=message_text)])\n",
        "\n",
        "    final_response = \"\"\n",
        "    # Itera assincronamente pelos eventos retornados durante a execução do agente\n",
        "    for event in runner.run(user_id=\"user1\", session_id=\"session1\", new_message=content):\n",
        "        if event.is_final_response():\n",
        "          for part in event.content.parts:\n",
        "            if part.text is not None:\n",
        "              final_response += part.text\n",
        "              final_response += \"\\n\"\n",
        "    return final_response"
      ],
      "metadata": {
        "id": "_xP4lWhsS5ko"
      },
      "execution_count": null,
      "outputs": []
    },
    {
      "cell_type": "code",
      "source": [
        "# Função auxiliar para exibir texto formatado em Markdown no Colab\n",
        "def to_markdown(text):\n",
        "  text = text.replace('•', '  *')\n",
        "  return Markdown(textwrap.indent(text, '> ', predicate=lambda _: True))"
      ],
      "metadata": {
        "id": "8dosiodaxfFR"
      },
      "execution_count": null,
      "outputs": []
    },
    {
      "cell_type": "code",
      "source": [
        "##########################################\n",
        "# --- Agente 1: Buscador de Notícias --- #\n",
        "##########################################\n",
        "def agente_buscador(topico,data_de_hoje):\n",
        "    buscador = Agent(\n",
        "        name=\"agente_buscador\",\n",
        "        model=\"gemini-2.0-flash\",\n",
        "        description=\"Agente que busca informações no Google\",\n",
        "        tools=[google_search],\n",
        "        instruction=\"\"\"\n",
        "        Você é um assistente de pesquisa. A sua tarefa é usar a ferramenta de busca do google (google_search)\n",
        "        para recuperar as últimas notícias da lançamentos muito relevantes sobre o tópico abaixo.\n",
        "        Foque em no máximo  lançamentos relevantes, com base na quantidade e entusiamo das notícias sobre el.\n",
        "        Se um tema tiver poucas notícias ou reações estusiamadas, é possível que ele não seja tão relavante assim\n",
        "        e pode ser substituído por outro que tenhas mais.\n",
        "        Esses lançamentos relevantes devem ser atuais, de no máximo um mês antes da data de hoje.\n",
        "        \"\"\"\n",
        "    )\n",
        "\n",
        "    entrada_do_agente_buscador = f\"Tópico: {topico}\\nData de hoje: {data_de_hoje}\"\n",
        "    lancamentos = call_agent(buscador, entrada_do_agente_buscador)\n",
        "    return lancamentos"
      ],
      "metadata": {
        "id": "o8bqIfi_DyH8"
      },
      "execution_count": null,
      "outputs": []
    },
    {
      "cell_type": "code",
      "source": [
        "################################################\n",
        "# --- Agente 2: Planejador de posts --- #\n",
        "################################################\n",
        "def agente_planejador(topico, lancamentos_buscados):\n",
        "    planejador = Agent(\n",
        "        name=\"agente_planejador\",\n",
        "        model=\"gemini-2.0-flash\",\n",
        "        # Inserir as instruções do Agente Planejador #################################################\n",
        "        instruction=\"\"\"\n",
        "        Você é um planejador de conteúdo, especialista em redes sociais. Com base na lista de lanaçamentos mais recentes e relevantes buscados, você deve:\n",
        "        usar a ferramenta de busca do Google (google_search) para criar um plano sobre\n",
        "        quais são os pontos mais relevantes que poderíamos abordar em um post sobre\n",
        "        cada um deles. Você também pode usar o (google_search) para encontrar mais\n",
        "        informações sobre os temas e aprofundar.\n",
        "        Ao final, você irá escolher os temas mais relevantes entre eles com base nas suas pesquisas\n",
        "        e retornar esse tema, seus pontos mais relevantes, e um plano com os assuntos\n",
        "        a serem abordados no post que será escrito posteriormente.\n",
        "        \"\"\",\n",
        "        description=\"Agente que planeja posts\",\n",
        "        tools=[google_search]\n",
        "    )\n",
        "\n",
        "    entrada_do_agente_planejador = f\"Tópico:{topico}\\nLançamentos buscados: {lancamentos_buscados}\"\n",
        "    # Executa o agente\n",
        "    plano_do_post = call_agent(planejador, entrada_do_agente_planejador)\n",
        "    return plano_do_post"
      ],
      "metadata": {
        "id": "y3VO1uo5_ghO"
      },
      "execution_count": null,
      "outputs": []
    },
    {
      "cell_type": "code",
      "source": [
        "######################################\n",
        "# --- Agente 3: Redator do Post --- #\n",
        "######################################\n",
        "def agente_redator(topico, plano_de_post):\n",
        "    redator = Agent(\n",
        "        name=\"agente_redator\",\n",
        "        model=\"gemini-2.0-flash\",\n",
        "        instruction=\"\"\"\n",
        "            Você é um Redator Criativo especializado em criar posts virais para redes sociais.\n",
        "            Você escreve posts para a empresa Alura, a maior escola online de tecnologia do Brasil.\n",
        "            Utilize o tema fornecido no plano de post e os pontos mais relevantes fornecidos e, com base nisso,\n",
        "            escreva um rascunho de post para Instagram sobre o tema indicado.\n",
        "            O post deve ser engajador, informativo, com linguagem simples e incluir 2 a 4 hashtags no final.\n",
        "            \"\"\",\n",
        "        description=\"Agente redator de posts engajadores para Instagram\"\n",
        "    )\n",
        "    entrada_do_agente_redator = f\"Tópico: {topico}\\nPlano de post: {plano_de_post}\"\n",
        "    # Executa o agente\n",
        "    rascunho = call_agent(redator, entrada_do_agente_redator)\n",
        "    return rascunho"
      ],
      "metadata": {
        "id": "uOqlg2TRLVh1"
      },
      "execution_count": null,
      "outputs": []
    },
    {
      "cell_type": "code",
      "source": [
        "##########################################\n",
        "# --- Agente 4: Revisor de Qualidade --- #\n",
        "##########################################\n",
        "def agente_revisor(topico, rascunho_gerado):\n",
        "    revisor = Agent(\n",
        "        name=\"agente_revisor\",\n",
        "        model=\"gemini-2.0-flash\",\n",
        "        instruction=\"\"\"\n",
        "            Você é um Editor e Revisor de Conteúdo meticuloso, especializado em posts para redes sociais, com foco no Instagram.\n",
        "            Por ter um público jovem, entre 18 e 30 anos, use um tom de escrita adequado.\n",
        "            Revise o rascunho de post de Instagram abaixo sobre o tópico indicado, verificando clareza, concisão, correção e tom.\n",
        "            Se o rascunho estiver bom, responda apenas 'O rascunho está ótimo e pronto para publicar!'.\n",
        "            Caso haja problemas, aponte-os e sugira melhorias.\n",
        "            \"\"\",\n",
        "        description=\"Agente revisor de post para redes sociais.\"\n",
        "    )\n",
        "    entrada_do_agente_revisor = f\"Tópico: {topico}\\nRascunho: {rascunho_gerado}\"\n",
        "    # Executa o agente\n",
        "    texto_revisado = call_agent(revisor, entrada_do_agente_revisor)\n",
        "    return texto_revisado"
      ],
      "metadata": {
        "id": "_aTb1SdkLeT6"
      },
      "execution_count": null,
      "outputs": []
    },
    {
      "cell_type": "code",
      "source": [
        "data_de_hoje = date.today().strftime(\"%d/%m/%Y\")\n",
        "\n",
        "print(\"🚀 Iniciando o Sistema de Criação de Posts para Instagram com 4 Agentes 🚀\")\n",
        "\n",
        "# --- Obter o Tópico do Usuário ---\n",
        "topico = input(\"❓ Por favor, digite o TÓPICO sobre o qual você quer criar o post de tendências: \")\n",
        "\n",
        "# Inserir lógica do sistema de agentes ################################################\n",
        "if not topico:\n",
        "  print(\"Você esqueceu de digitar o tópico!\")\n",
        "else:\n",
        "  print(f\"Maravilha! Vamos então criar o poste sobre novidade4s em {topico} \")\n",
        "  lancamentos_buscados = agente_buscador(topico, data_de_hoje)\n",
        "\n",
        "  print(\"\\n-- Resultado do Agente 1 (Buscador) ---\\n\")\n",
        "  display(to_markdown(lancamentos_buscados))\n",
        "  plano_de_post = agente_planejador(topico, lancamentos_buscados)\n",
        "  print(\"-----------------------------------------------------\")\n",
        "\n",
        "  plano_de_post = agente_planejador(topico, lancamentos_buscados)\n",
        "  print(\"\\n-- Resultado do Agente 2 (Planejador) ---\\n\")\n",
        "  display(to_markdown(plano_de_post))\n",
        "  print(\"-----------------------------------------------------\")\n",
        "\n",
        "  rascunho_de_post = agente_redator(topico, plano_de_post)\n",
        "  print(\"\\n-- Resultado do Agente 3 (Redator) ---\\n\")\n",
        "  display(to_markdown(rascunho_de_post))\n",
        "\n",
        "  post_final = agente_revisor(topico, rascunho_de_post)\n",
        "  print(\"\\n-- Resultado do Agente 4 (Revisor) ---\\n\")\n",
        "  display(to_markdown(post_final))\n",
        "  print(\"-----------------------------------------------------\")\n",
        "\n",
        "\n",
        "\n",
        "\n",
        "\n"
      ],
      "metadata": {
        "id": "630ummxz4myx",
        "colab": {
          "base_uri": "https://localhost:8080/",
          "height": 1000
        },
        "outputId": "04978538-8255-4002-a161-55a62bac5eb6"
      },
      "execution_count": null,
      "outputs": [
        {
          "output_type": "stream",
          "name": "stdout",
          "text": [
            "🚀 Iniciando o Sistema de Criação de Posts para Instagram com 4 Agentes 🚀\n",
            "❓ Por favor, digite o TÓPICO sobre o qual você quer criar o post de tendências: agentes de IA\n",
            "Maravilha! Vamos então criar o poste sobre novidade4s em agentes de IA \n",
            "\n",
            "-- Resultado do Agente 1 (Buscador) ---\n",
            "\n"
          ]
        },
        {
          "output_type": "display_data",
          "data": {
            "text/plain": [
              "<IPython.core.display.Markdown object>"
            ],
            "text/markdown": "> Tudo bem, estou pronto para pesquisar os lançamentos mais relevantes de agentes de IA no último mês. Aqui estão minhas buscas iniciais:\n> \n> \n> Com base nas minhas pesquisas, aqui estão alguns dos lançamentos mais relevantes de agentes de IA no último mês:\n> \n> 1.  **IBM watsonx Orchestrate:** A IBM anunciou atualizações para o watsonx Orchestrate, oferecendo soluções para integrar, customizar e implantar agentes de IA. Inclui agentes pré-construídos para RH, vendas e compras, com integração a mais de 80 aplicações empresariais. O Agent Catalog simplifica a implantação.\n> 2.  **Microsoft Copilot Studio:** A Microsoft apresentou o Copilot Studio, uma solução para criar modelos capazes de automatizar tarefas com o suporte de IA.\n> 3.  **Google Gemini 2.0:** O Google avançou com seu modelo de IA Gemini 2.0, que realiza buscas mais detalhadas e complexas sobre temas específicos.\n> 4.  **OpenAI GPT-4.1 e GPT-4.1 Mini:** A OpenAI lançou os modelos GPT-4.1 e GPT-4.1 Mini para usuários do ChatGPT. O GPT-4.1 oferece desempenho mais rápido e melhorias em programação e atendimento a instruções.\n> 5.  **Yellowfin 9.15:** A plataforma de business intelligence Yellowfin apresentou a versão 9.15, que incorpora a funcionalidade de Natural Query Language habilitada por IA, permitindo consultas por meio de linguagem natural.\n> \n> Além destes, destaco também:\n> \n> *   **Tendências de Agentes de IA:** Agentes de IA estão se tornando uma tendência crucial nas empresas em 2025, com 80% das organizações planejando avanços significativos na adoção de tecnologias de IA até o final de 2026. A expectativa é que os agentes operem de forma autônoma, antecipando cenários e interagindo de maneira personalizada.\n> *   **Ferramentas para criação de agentes de IA:** Plataformas como Dify, CrewAI, Synthflow e LangChain estão se destacando para a criação de agentes de IA.\n> *   **Mercado de Agentes de IA:** O mercado global de agentes de IA deverá atingir US$ 52,62 bilhões até 2030, impulsionado pela necessidade de automação eficiente e decisões rápidas.\n> \n> \n"
          },
          "metadata": {}
        },
        {
          "output_type": "stream",
          "name": "stdout",
          "text": [
            "-----------------------------------------------------\n",
            "\n",
            "-- Resultado do Agente 2 (Planejador) ---\n",
            "\n"
          ]
        },
        {
          "output_type": "display_data",
          "data": {
            "text/plain": [
              "<IPython.core.display.Markdown object>"
            ],
            "text/markdown": "> Okay, com base nesses lançamentos e tendências de agentes de IA, vou elaborar um plano de conteúdo para um post de rede social.\n> \n> \n> Com base na minha pesquisa, o tema mais relevante para um post de mídia social sobre agentes de IA é:\n> \n> **Tema:** **Agentes de IA: A Transformação Empresarial em 2025**\n> \n> **Pontos Relevantes:**\n> \n> *   **Crescimento Exponencial do Mercado:** O mercado global de agentes de IA deverá atingir US$ 52,62 bilhões até 2030.\n> *   **Adoção em Massa:** 80% das organizações planejam adotar tecnologias de IA em larga escala até o final de 2026.\n> *   **Autonomia e Personalização:** Agentes de IA operam de forma autônoma, antecipando cenários e interagindo de maneira personalizada.\n> *   **Aplicações Diversificadas:** Os agentes de IA estão sendo implementados em diversos setores, incluindo RH, vendas, compras, saúde, finanças e engenharia.\n> *   **Ferramentas de Criação:** Plataformas como Dify, CrewAI, Synthflow e LangChain estão impulsionando a criação de agentes de IA.\n> \n> **Plano de Conteúdo para o Post:**\n> \n> 1.  **Introdução:**\n>     *   Comece com uma frase chamativa sobre a ascensão dos agentes de IA e seu impacto no mundo dos negócios.\n>     *   Apresente o conceito de agentes de IA como \"funcionários digitais\" que podem automatizar tarefas e melhorar a eficiência.\n> \n> 2.  **Estatísticas Impactantes:**\n>     *   Destaque o crescimento projetado do mercado de agentes de IA, mencionando o valor de US$ 52,62 bilhões até 2030.\n>     *   Cite a porcentagem de empresas que planejam adotar agentes de IA em larga escala (80% até 2026).\n>     *   Mencione o ROI de US$ 3,50 para cada US$ 1 investido em IA.\n> \n> 3.  **Benefícios e Aplicações:**\n>     *   Explore os benefícios dos agentes de IA, como aumento da produtividade, redução de custos e melhor tomada de decisões.\n>     *   Apresente exemplos de aplicações em diferentes setores:\n>         *   **RH:** Agentes para recrutamento e onboarding.\n>         *   **Vendas:** Agentes para qualificação de leads e geração de conteúdo.\n>         *   **Saúde:** Agentes para análise de dados e suporte a decisões clínicas.\n>         *   **Engenharia:** Agentes para automação de processos e atendimento ao cliente.\n>         *   **Financeiro:** Análise de dados e reconhecimento de padrões para decisões em tempo útil.\n>     *   Destaque a capacidade dos agentes de IA de operar de forma autônoma e interagir de maneira personalizada.\n> \n> 4.  **Ferramentas e Plataformas:**\n>     *   Apresente algumas das principais plataformas para criação de agentes de IA:\n>         *   **Dify:** Plataforma open-source para desenvolvimento de aplicações de IA.\n>         *   **CrewAI:** Framework para construir sistemas multi-agentes.\n>         *   **Synthflow:** Plataforma para criar agentes de voz de IA para call centers.\n>         *   **LangChain:** Framework para criar aplicações de processamento de linguagem natural.\n>     *   Mencione que essas ferramentas permitem que empresas criem agentes de IA personalizados para atender às suas necessidades específicas.\n> \n> 5.  **Exemplos de Sucesso:**\n>     *   IBM Watsonx Orchestrate otimiza workflows complexos.\n>     *   Microsoft Copilot Studio auxilia na extração de informações de PDFs, onboarding de clientes e suporte ao cliente.\n>     *   Yellowfin 9.15 permite consultas em linguagem natural (NLQ).\n> \n> 6.  **O Futuro dos Agentes de IA:**\n>     *   Enfatize que os agentes de IA são uma tendência crescente e que sua adoção continuará a aumentar nos próximos anos.\n>     *   Destaque a importância de se preparar para essa transformação e explorar as oportunidades que os agentes de IA oferecem.\n> \n> 7.  **Chamada para Ação:**\n>     *   Incentive os seguidores a explorar as ferramentas e plataformas mencionadas.\n>     *   Faça uma pergunta para estimular o engajamento, como: \"Como você imagina que os agentes de IA podem transformar o seu negócio?\".\n> \n> **Hashtags:**\n> \n> \\#InteligenciaArtificial \\#IA \\#AgentesDeIA \\#Automacao \\#Inovacao \\#TransformacaoDigital \\#FuturoDoTrabalho \\#Dify \\#CrewAI \\#Synthflow \\#LangChain \\#Watsonx \\#CopilotStudio \\#Yellowfin\n> \n> Este plano de conteúdo fornecerá um post informativo e envolvente sobre a crescente importância dos agentes de IA no cenário empresarial atual.\n> \n"
          },
          "metadata": {}
        },
        {
          "output_type": "stream",
          "name": "stdout",
          "text": [
            "-----------------------------------------------------\n",
            "\n",
            "-- Resultado do Agente 3 (Redator) ---\n",
            "\n"
          ]
        },
        {
          "output_type": "display_data",
          "data": {
            "text/plain": [
              "<IPython.core.display.Markdown object>"
            ],
            "text/markdown": "> 🚀 Prepare-se para o futuro: os agentes de IA estão chegando para revolucionar o mundo dos negócios! 🤖\n> \n> Imagine ter \"funcionários digitais\" que automatizam tarefas, aumentam a eficiência e impulsionam a inovação. Bem-vindo à era dos agentes de IA!\n> \n> 📈 O mercado global de agentes de IA está previsto para atingir **US$ 52,62 bilhões até 2030**! E não para por aí: **80% das empresas** planejam adotar essas tecnologias em larga escala até 2026. 🤯\n> \n> 💼 **Onde eles atuam?** RH, vendas, saúde, finanças, engenharia... Os agentes de IA estão transformando diversos setores, impulsionando a produtividade, reduzindo custos e otimizando a tomada de decisões. Eles operam de forma autônoma, antecipando cenários e interagindo de maneira personalizada.\n> \n> 🛠️ **Como criar o seu?** Plataformas como Dify, CrewAI, Synthflow e LangChain estão facilitando a criação de agentes de IA personalizados para as necessidades de cada negócio.\n> \n> ✨ **Exemplos de sucesso:** IBM Watsonx Orchestrate otimizando workflows complexos, Microsoft Copilot Studio turbinando o onboarding de clientes e Yellowfin 9.15 permitindo consultas em linguagem natural.\n> \n> 🤔 E você, como imagina que os agentes de IA podem transformar o seu negócio? Compartilhe suas ideias nos comentários! 👇\n> \n> \\#InteligenciaArtificial \\#IA \\#AgentesDeIA \\#TransformacaoDigital\n> \n"
          },
          "metadata": {}
        },
        {
          "output_type": "stream",
          "name": "stdout",
          "text": [
            "\n",
            "-- Resultado do Agente 4 (Revisor) ---\n",
            "\n"
          ]
        },
        {
          "output_type": "display_data",
          "data": {
            "text/plain": [
              "<IPython.core.display.Markdown object>"
            ],
            "text/markdown": "> O rascunho está bom, mas podemos deixá-lo ainda mais atraente para o público jovem do Instagram com algumas mudanças:\n> \n> *   **Tom:** O tom já está bom, mas podemos adicionar um pouco mais de entusiasmo e usar uma linguagem mais coloquial para atrair a atenção.\n> *   **Emojis:** Podemos adicionar mais emojis para tornar o post mais visualmente atraente e expressivo.\n> *   **Chamada para ação:** A chamada para ação no final é boa, mas podemos torná-la mais específica e envolvente.\n> \n> **Sugestões de melhoria:**\n> \n> 🚀 **Se liga no futuro: os agentes de IA tão chegando pra botar pra quebrar no mundo dos negócios!** 🤖\n> \n> Imagina ter uns \"parças digitais\" que fazem tudo no automático, turbinam a produtividade e ainda trazem ideias inovadoras? ✨ Cola com a gente na era dos agentes de IA!\n> \n> 📈 A parada é séria: o mercado global de agentes de IA tá na previsão de chegar a **52,62 bilhões de dólares até 2030**! 🤑 E não para por aí: **80% das empresas** tão de olho pra внедрить essas tecnologias em larga escala até 2026. 🤯\n> \n> 💼 **Onde eles tão mandando?** RH, vendas, saúde, finanças, engenharia... Os agentes de IA tão transformando tudo, aumentando a produtividade, diminuindo os gastos e dando um help na hora de tomar decisões. 🎯 Eles trabalham sozinhos, prevendo o que vai acontecer e conversando com cada um de um jeito especial.\n> \n> 🛠️ **Quer criar o seu?** Relaxa! Plataformas como Dify, CrewAI, Synthflow e LangChain tão aí pra te ajudar a criar agentes de IA personalizados pra sua empresa. 😉\n> \n> ✨ **Exemplos de sucesso:** IBM Watsonx Orchestrate organizando os processos, Microsoft Copilot Studio dando um up no onboarding dos clientes e Yellowfin 9.15 permitindo que você faça perguntas como se estivesse conversando com um amigo.\n> \n> 🤔 E aí, como você acha que os agentes de IA podem dar um upgrade no seu negócio? Deixa sua ideia aqui nos comentários! 👇\n> \n> \\#InteligenciaArtificial \\#IA \\#AgentesDeIA \\#TransformacaoDigital\n> \n"
          },
          "metadata": {}
        },
        {
          "output_type": "stream",
          "name": "stdout",
          "text": [
            "-----------------------------------------------------\n"
          ]
        }
      ]
    },
    {
      "cell_type": "code",
      "source": [],
      "metadata": {
        "id": "VsJwxOUW1VY-"
      },
      "execution_count": null,
      "outputs": []
    }
  ]
}